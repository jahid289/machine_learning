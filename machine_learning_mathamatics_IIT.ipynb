{
  "nbformat": 4,
  "nbformat_minor": 0,
  "metadata": {
    "colab": {
      "name": "machine learning - mathamatics IIT.ipynb",
      "provenance": [],
      "collapsed_sections": [],
      "authorship_tag": "ABX9TyPIPip8q+qi+/0yEK3YDtf9",
      "include_colab_link": true
    },
    "kernelspec": {
      "name": "python3",
      "display_name": "Python 3"
    },
    "language_info": {
      "name": "python"
    }
  },
  "cells": [
    {
      "cell_type": "markdown",
      "metadata": {
        "id": "view-in-github",
        "colab_type": "text"
      },
      "source": [
        "<a href=\"https://colab.research.google.com/github/jahid289/machine_learning/blob/main/machine_learning_mathamatics_IIT.ipynb\" target=\"_parent\"><img src=\"https://colab.research.google.com/assets/colab-badge.svg\" alt=\"Open In Colab\"/></a>"
      ]
    },
    {
      "cell_type": "markdown",
      "source": [
        "Date: = 12/08/22\n",
        "1. **vectors**"
      ],
      "metadata": {
        "id": "wrgomChk087N"
      }
    },
    {
      "cell_type": "code",
      "source": [
        "# import numpy library\n",
        "import numpy as np"
      ],
      "metadata": {
        "id": "DKjkzWWq1Qwz"
      },
      "execution_count": null,
      "outputs": []
    },
    {
      "cell_type": "code",
      "source": [
        "#vector define\n",
        "v1 = np.array([2,-4,6])\n",
        "v2 = np.array([1,3,-3])\n",
        "print(f\"The vector v1 is {v1}\", end = \"\\n\\n\")\n",
        "print(f\"The vector v2 is {v2}\")\n"
      ],
      "metadata": {
        "colab": {
          "base_uri": "https://localhost:8080/"
        },
        "id": "4Yb7HqSu1Q3Y",
        "outputId": "175ddf9c-51c9-44ae-d0df-aa82b0a3abaf"
      },
      "execution_count": null,
      "outputs": [
        {
          "output_type": "stream",
          "name": "stdout",
          "text": [
            "The vector v1 is [ 2 -4  6]\n",
            "\n",
            "The vector v2 is [ 1  3 -3]\n"
          ]
        }
      ]
    },
    {
      "cell_type": "code",
      "source": [
        "# calculate the length of the vector\n",
        "# length1 = sqrt(x1**2 + y1**2 + z1**2) \n",
        "# length2 = sqrt(x2**2 + y2**2 + z2**2) \n",
        "\n",
        "l1 = np.linalg.norm(v1)\n",
        "l2 = np.linalg.norm(v2)\n",
        "\n",
        "print(f\" The length of the vector v1 is : {l1} (scaler)\", end=\"\\n\\n\")\n",
        "print(f\" The length of the vector v2 is : {l2} (scaler)\")"
      ],
      "metadata": {
        "colab": {
          "base_uri": "https://localhost:8080/"
        },
        "id": "UukWmquF1z6D",
        "outputId": "223c5a1f-ad6a-463d-9e6c-8fb939a1f96f"
      },
      "execution_count": null,
      "outputs": [
        {
          "output_type": "stream",
          "name": "stdout",
          "text": [
            " The length of the vector v1 is : 7.483314773547883 (scaler) \n",
            "\n",
            " The length of the vector v2 is : 4.358898943540674 (scaler)\n"
          ]
        }
      ]
    },
    {
      "cell_type": "code",
      "source": [
        "# Addition of two vectors.\n",
        "x = v1 + v2\n",
        "print(f\"The additon value of two vectors v1 & v2 is:  {x}\", end=\"\\n\\n\")\n",
        "\n",
        "# vector substraction.\n",
        "y = v1 - v2\n",
        "print(f\"The substruction value of two vector v1 & v2 is : {y}\", end=\"\\n\\n\")\n",
        "\n",
        "# Multyply a vector with a scaler value . \n",
        "\n",
        "sm = 3*v1\n",
        "print(f\"The scaler multiplication of the vector v1 with the scaler value 3 is : {sm} \", end=\"\\n\\n\")"
      ],
      "metadata": {
        "colab": {
          "base_uri": "https://localhost:8080/"
        },
        "id": "74mMu9M_3Gk8",
        "outputId": "713e8499-5c75-4b4c-be79-85499623af88"
      },
      "execution_count": null,
      "outputs": [
        {
          "output_type": "stream",
          "name": "stdout",
          "text": [
            "The additon value of two vectors v1 & v2 is:  [ 3 -1  3]\n",
            "\n",
            "The substruction value of two vector v1 & v2 is : [ 1 -7  9]\n",
            "\n",
            "The scaler multiplication of the vector v1 with the scaler value 3 is : [  6 -12  18] \n",
            "\n"
          ]
        }
      ]
    },
    {
      "cell_type": "code",
      "source": [
        "# Dot product of two vector\n",
        "dp = np.dot(v1, v2)\n",
        "print(v1)\n",
        "print(v2)\n",
        "print(f\"The dot product of two vector v1 & v2 is: {dp}\")"
      ],
      "metadata": {
        "colab": {
          "base_uri": "https://localhost:8080/"
        },
        "id": "X8cRSG_ePwD9",
        "outputId": "162a5053-15e1-4ee5-82c2-9c4f2f53770a"
      },
      "execution_count": null,
      "outputs": [
        {
          "output_type": "stream",
          "name": "stdout",
          "text": [
            "[ 2 -4  6]\n",
            "[ 1  3 -3]\n",
            "The dot product of two vector v1 & v2 is: -28\n"
          ]
        }
      ]
    },
    {
      "cell_type": "markdown",
      "source": [
        "**Matrix:**"
      ],
      "metadata": {
        "id": "7IWol5AASJ-k"
      }
    },
    {
      "cell_type": "code",
      "source": [
        "#Defining of two matrixes \n",
        "matrix1 = np.array([[2,4,6],[5,6,7],[3,7,8]])\n",
        "matrix2 = np.array([[3,5,6],[3,9,9],[2,5,9]]) \n",
        "print(f\"The first matrix is {matrix1}\", end='\\n\\n')\n",
        "print(f\"The second matrix is {matrix2}\", end= '\\n\\n')\n",
        "\n",
        "mtx_add = matrix1 + matrix2\n",
        "print(f\"The addition of two matrix is {mtx_add}\" , end='\\n\\n')\n"
      ],
      "metadata": {
        "id": "XLkaTksZPwG9",
        "colab": {
          "base_uri": "https://localhost:8080/"
        },
        "outputId": "1bbad06b-77e1-4278-cfd7-b333bf55e0b5"
      },
      "execution_count": null,
      "outputs": [
        {
          "output_type": "stream",
          "name": "stdout",
          "text": [
            "The first matrix is [[2 4 6]\n",
            " [5 6 7]\n",
            " [3 7 8]]\n",
            "\n",
            "The second matrix is [[3 5 6]\n",
            " [3 9 9]\n",
            " [2 5 9]]\n",
            "\n",
            "The addition of two matrix is [[ 5  9 12]\n",
            " [ 8 15 16]\n",
            " [ 5 12 17]]\n",
            "\n"
          ]
        }
      ]
    },
    {
      "cell_type": "code",
      "source": [
        "# matrix multiplication :\n",
        "multipication = np.matrix.dot(matrix1 , matrix2)\n",
        "print(multipication)"
      ],
      "metadata": {
        "id": "Z8EExjTGPwJU",
        "colab": {
          "base_uri": "https://localhost:8080/"
        },
        "outputId": "5950905b-5b86-4abc-8b3e-b5ab534ef694"
      },
      "execution_count": null,
      "outputs": [
        {
          "output_type": "stream",
          "name": "stdout",
          "text": [
            "[[ 30  76 102]\n",
            " [ 47 114 147]\n",
            " [ 46 118 153]]\n"
          ]
        }
      ]
    },
    {
      "cell_type": "code",
      "source": [
        "# matrix ,multipication of (m x n)  $  (n x m)  matrix by using numpy.matmul(argument1, argument2 )\n",
        "m1 = np.array([[2,3],[7,3],[1,3]])\n",
        "m2 = np.array([[1,5,2],[3,2,3]])\n",
        "mn = np.matmul(m1, m2)\n",
        "print(mn)"
      ],
      "metadata": {
        "id": "teZ8dnlNPwL7",
        "colab": {
          "base_uri": "https://localhost:8080/"
        },
        "outputId": "5f8c005a-697c-467b-8760-abfed1c59252"
      },
      "execution_count": null,
      "outputs": [
        {
          "output_type": "stream",
          "name": "stdout",
          "text": [
            "[[11 16 13]\n",
            " [16 41 23]\n",
            " [10 11 11]]\n"
          ]
        }
      ]
    },
    {
      "cell_type": "code",
      "source": [
        "print(\"jahid Bin Alam\")"
      ],
      "metadata": {
        "colab": {
          "base_uri": "https://localhost:8080/"
        },
        "id": "3a47QinMzoZv",
        "outputId": "f53ce5ec-12d6-443b-f51a-15d67cdf3cbb"
      },
      "execution_count": 1,
      "outputs": [
        {
          "output_type": "stream",
          "name": "stdout",
          "text": [
            "jahid Bin Alam\n"
          ]
        }
      ]
    }
  ]
}